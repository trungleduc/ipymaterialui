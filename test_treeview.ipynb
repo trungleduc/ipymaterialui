{
 "cells": [
  {
   "cell_type": "code",
   "execution_count": 1,
   "metadata": {},
   "outputs": [
    {
     "data": {
      "application/vnd.jupyter.widget-view+json": {
       "model_id": "f4e9f78deeeb4f99be3937920740f246",
       "version_major": 2,
       "version_minor": 0
      },
      "text/plain": [
       "TreeView(children=[TreeItem(children=[TreeItem(label='0', node_id='0'), TreeItem(label='1', node_id='1')], lab…"
      ]
     },
     "metadata": {},
     "output_type": "display_data"
    }
   ],
   "source": [
    "import ipymaterialui as mui\n",
    "import ipywidgets as widgets\n",
    "\n",
    "item0 = mui.TreeItem(label = \"0\", node_id = \"0\")\n",
    "item1 = mui.TreeItem(label = \"1\", node_id = \"1\")\n",
    "item2 = mui.TreeItem(label = \"2\", node_id = \"2\", children = [item0,item1])\n",
    "item3 = mui.TreeItem(label = \"3\", node_id = \"3\")\n",
    "icon1 = mui.Icon(children = \"add_icon \", font_size = \"small\")\n",
    "icon2 = mui.Icon(children = \"minus_icon \", font_size = \"small\")\n",
    "tree= mui.TreeView(label = \"test\", children = [item2, item3],  default_collapse_icon = icon1, default_expand_icon = icon1, expanded = [\"0\"])\n",
    "tree\n",
    "\n"
   ]
  },
  {
   "cell_type": "code",
   "execution_count": null,
   "metadata": {},
   "outputs": [],
   "source": []
  }
 ],
 "metadata": {
  "kernelspec": {
   "display_name": "Python 3",
   "language": "python",
   "name": "python3"
  },
  "language_info": {
   "codemirror_mode": {
    "name": "ipython",
    "version": 3
   },
   "file_extension": ".py",
   "mimetype": "text/x-python",
   "name": "python",
   "nbconvert_exporter": "python",
   "pygments_lexer": "ipython3",
   "version": "3.7.5"
  }
 },
 "nbformat": 4,
 "nbformat_minor": 4
}
